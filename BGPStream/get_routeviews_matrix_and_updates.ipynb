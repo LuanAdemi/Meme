{
 "cells": [
  {
   "cell_type": "code",
   "execution_count": 1,
   "metadata": {},
   "outputs": [
    {
     "name": "stdout",
     "output_type": "stream",
     "text": [
      "3.7.5 (default, Nov  7 2019, 10:50:52) \n",
      "[GCC 8.3.0]\n"
     ]
    }
   ],
   "source": [
    "import sys\n",
    "print(sys.version)"
   ]
  },
  {
   "cell_type": "code",
   "execution_count": 2,
   "metadata": {},
   "outputs": [],
   "source": [
    "import pybgpstream as pbs\n",
    "import time\n",
    "from datetime import datetime\n",
    "from collections import defaultdict\n",
    "from typing import Dict, Set\n",
    "import pickle\n",
    "\n",
    "\n",
    "# AMS-IX\n",
    "collectors = [\"route-views.amsix\"]"
   ]
  },
  {
   "cell_type": "code",
   "execution_count": 3,
   "metadata": {},
   "outputs": [
    {
     "name": "stdout",
     "output_type": "stream",
     "text": [
      "Found RIB dumps at time 1578355200\n"
     ]
    }
   ],
   "source": [
    "# Find a time where rib dumps occurred in this range\n",
    "startSearchTime = \"2020-01-07 00:00:00 UTC\"\n",
    "endSearchTime = \"2020-01-07 23:59:59 UTC\"\n",
    "\n",
    "def getFirstRibDumpTime():\n",
    "    fullDayRibStream = pbs.BGPStream(\n",
    "        from_time=startSearchTime,\n",
    "        until_time=endSearchTime,\n",
    "        collectors=collectors,\n",
    "        record_type=\"ribs\"\n",
    "    )\n",
    "    for rec in fullDayRibStream.records():\n",
    "        for elem in rec:\n",
    "            if 'next-hop' in elem.fields:\n",
    "                return rec.time\n",
    "            \n",
    "startTime = int(getFirstRibDumpTime())\n",
    "endTimeShort = startTime + 60\n",
    "endTimeLong = startTime + 60 * 15\n",
    "print(\"Found RIB dumps at time %d\" % startTime)"
   ]
  },
  {
   "cell_type": "code",
   "execution_count": 4,
   "metadata": {},
   "outputs": [],
   "source": [
    "ribStream = pbs.BGPStream(\n",
    "        collectors=collectors,\n",
    "        record_type=\"ribs\"\n",
    "    )\n",
    "ribStream.add_interval_filter(startTime, endTimeShort)\n",
    "\n",
    "updateStream = pbs.BGPStream(\n",
    "        collectors=collectors,\n",
    "        record_type=\"updates\"\n",
    "    )\n",
    "updateStream.add_interval_filter(startTime, endTimeLong)"
   ]
  },
  {
   "cell_type": "code",
   "execution_count": 5,
   "metadata": {},
   "outputs": [],
   "source": [
    "def extractMatrix(stream):\n",
    "    prefixSets = defaultdict(set)\n",
    "    for rec in stream.records():\n",
    "        for elem in rec:\n",
    "            # if the record is a route, it will have 'next-hop' in the fields\n",
    "            if 'next-hop' in elem.fields:\n",
    "\n",
    "                prefix = elem.fields['prefix']\n",
    "\n",
    "                announcer = elem.fields['as-path'].split(\" \")[0]\n",
    "\n",
    "                prefixSets[prefix].add(announcer)\n",
    "\n",
    "    return prefixSets\n",
    "        \n",
    "matrix = extractMatrix(ribStream)"
   ]
  },
  {
   "cell_type": "code",
   "execution_count": 6,
   "metadata": {},
   "outputs": [
    {
     "name": "stdout",
     "output_type": "stream",
     "text": [
      "907499 rows in matrix\n",
      "First 100 rows:\n",
      "0.0.0.0/0 ['51088', '61955']\n",
      "1.0.0.0/24 ['267613', '39120', '12859', '61955', '1140', '1103', '39591', '51088', '57695', '293', '50763', '5394', '24875', '31019', '58511', '6830', '12779', '34968', '20953']\n",
      "1.0.4.0/22 ['267613', '39120', '12859', '61955', '1140', '1103', '39591', '51088', '57695', '293', '50763', '5394', '24875', '31019', '58511', '6830', '12779', '34968', '20953']\n",
      "1.0.4.0/24 ['267613', '39120', '12859', '61955', '1140', '1103', '39591', '51088', '57695', '293', '50763', '5394', '24875', '31019', '58511', '6830', '12779', '34968', '20953']\n",
      "1.0.5.0/24 ['267613', '39120', '12859', '61955', '1140', '1103', '39591', '51088', '57695', '293', '50763', '5394', '24875', '31019', '58511', '6830', '12779', '34968', '20953']\n",
      "1.0.6.0/24 ['267613', '39120', '12859', '61955', '1140', '1103', '39591', '51088', '57695', '293', '50763', '5394', '24875', '31019', '58511', '6830', '12779', '34968', '20953']\n",
      "1.0.7.0/24 ['267613', '39120', '12859', '61955', '1140', '1103', '39591', '51088', '57695', '293', '50763', '5394', '24875', '31019', '58511', '6830', '12779', '34968', '20953']\n",
      "1.0.16.0/24 ['1103', '58511', '267613', '39120', '6830', '12779', '293', '34968', '20953', '39591', '50763', '5394', '24875', '31019', '51088', '12859', '61955']\n",
      "1.0.64.0/18 ['1103', '58511', '267613', '39120', '6830', '12779', '293', '34968', '20953', '39591', '50763', '5394', '24875', '31019', '51088', '12859', '61955', '1140']\n",
      "1.0.128.0/17 ['267613', '39120', '12859', '61955', '1140', '1103', '39591', '51088', '57695', '293', '50763', '5394', '24875', '31019', '58511', '6830', '12779', '34968', '20953']\n"
     ]
    }
   ],
   "source": [
    "print(\"%d rows in matrix\" % len(matrix))\n",
    "print(\"First 100 rows:\")\n",
    "for prefix, ases in list(matrix.items())[:10]:\n",
    "    print(prefix, str(list(ases)))"
   ]
  },
  {
   "cell_type": "code",
   "execution_count": 7,
   "metadata": {},
   "outputs": [],
   "source": [
    "def extractUpdates(stream):\n",
    "    updates = []\n",
    "    for rec in stream.records():\n",
    "        for elem in rec:\n",
    "            if len(elem.fields) > 0:\n",
    "                if elem.type in ['A', 'W']:\n",
    "                    announcer = elem.fields.get('as-path', None)\n",
    "                    if announcer is None:\n",
    "                        announcer = elem.peer_asn\n",
    "                    else:\n",
    "                        announcer = announcer.split()[0]\n",
    "                    updateType = '+' if elem.type == 'A' else '-'\n",
    "                    updateTuple = (rec.time, announcer, updateType, elem.fields['prefix'])\n",
    "                    updates.append(updateTuple)\n",
    "                #print(elem.type)\n",
    "                #print(elem.fields)\n",
    "    return updates\n",
    "updates = extractUpdates(updateStream)"
   ]
  },
  {
   "cell_type": "code",
   "execution_count": 8,
   "metadata": {},
   "outputs": [
    {
     "name": "stdout",
     "output_type": "stream",
     "text": [
      "297854 updates scraped.\n",
      "First 100 updates:\n",
      "(1578355200.031364, '267613', '+', '209.163.124.0/24')\n",
      "(1578355200.031383, '267613', '+', '202.95.201.0/24')\n",
      "(1578355200.084798, '1103', '+', '109.65.126.0/24')\n",
      "(1578355200.08482, '1103', '+', '131.221.139.0/24')\n",
      "(1578355200.08482, '1103', '+', '131.221.136.0/24')\n",
      "(1578355200.08482, '1103', '+', '131.221.137.0/24')\n",
      "(1578355200.08482, '1103', '+', '131.221.138.0/24')\n",
      "(1578355200.084843, '1103', '+', '170.0.108.0/22')\n",
      "(1578355200.092825, '39591', '+', '2a00:ad87:4600::/48')\n",
      "(1578355200.092859, 39591, '-', '131.221.137.0/24')\n"
     ]
    }
   ],
   "source": [
    "print(\"%d updates scraped.\" % len(updates))\n",
    "print(\"First 100 updates:\")\n",
    "for update in updates[:10]:\n",
    "    print(update)"
   ]
  },
  {
   "cell_type": "code",
   "execution_count": 9,
   "metadata": {},
   "outputs": [
    {
     "name": "stdout",
     "output_type": "stream",
     "text": [
      "Saving matrix and updates to pickle bgpstream_matrix_and_updates.pickle\n",
      "Done.\n"
     ]
    }
   ],
   "source": [
    "pickle_filename = \"bgpstream_matrix_and_updates.pickle\"\n",
    "print(\"Saving matrix and updates to pickle\", pickle_filename)\n",
    "\n",
    "obj = {'matrix': matrix, 'updates':updates}\n",
    "with open(pickle_filename, 'wb') as fp:\n",
    "    pickle.dump(obj, fp)\n",
    "print(\"Done.\")"
   ]
  },
  {
   "cell_type": "code",
   "execution_count": null,
   "metadata": {},
   "outputs": [],
   "source": []
  }
 ],
 "metadata": {
  "kernelspec": {
   "display_name": "Python 3",
   "language": "python",
   "name": "python3"
  },
  "language_info": {
   "codemirror_mode": {
    "name": "ipython",
    "version": 3
   },
   "file_extension": ".py",
   "mimetype": "text/x-python",
   "name": "python",
   "nbconvert_exporter": "python",
   "pygments_lexer": "ipython3",
   "version": "3.7.5"
  }
 },
 "nbformat": 4,
 "nbformat_minor": 2
}
